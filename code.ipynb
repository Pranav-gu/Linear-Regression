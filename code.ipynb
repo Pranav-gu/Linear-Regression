{
 "cells": [
  {
   "cell_type": "code",
   "execution_count": 1,
   "metadata": {},
   "outputs": [],
   "source": [
    "import pickle\n",
    "from sklearn import linear_model as lm, preprocessing as p\n",
    "import matplotlib.pyplot as plt\n",
    "import numpy as np\n",
    "import random\n",
    "from prettytable import PrettyTable"
   ]
  },
  {
   "cell_type": "code",
   "execution_count": 2,
   "metadata": {},
   "outputs": [],
   "source": [
    "file = open(\"./train_dataset.pickle\", \"rb\")\n",
    "x = pickle.load(file)\n",
    "file.close()\n",
    "count_train = 0\n",
    "\n",
    "file = open(\"./test_dataset.pickle\", \"rb\")\n",
    "y = pickle.load(file)\n",
    "file.close()\n",
    "count_test = 0\n",
    "\n",
    "l_train = []\n",
    "for lines in x:\n",
    "    l_train.append(lines)\n",
    "    count_train += 1\n",
    "\n",
    "l_test = []\n",
    "for lines in y:\n",
    "    l_test.append(lines)\n",
    "    count_test += 1\n"
   ]
  },
  {
   "cell_type": "code",
   "execution_count": 3,
   "metadata": {},
   "outputs": [],
   "source": [
    "X_train = []\n",
    "Y_train = []\n",
    "\n",
    "X_test = [l_test[x][0] for x in range(0, count_test)]\n",
    "Y_test = [l_test[x][1] for x in range(0, count_test)]\n",
    "\n",
    "visited = []\n",
    "for i in range(0, count_train, 1):\n",
    "    visited.append(False)\n",
    "\n",
    "index = 0           # Arbitrarily Assigned\n",
    "\n",
    "for i in range(0, 20, 1):\n",
    "    l1 = []\n",
    "    l2 = []\n",
    "    for j in range(0, int(count_train/20), 1):\n",
    "        while True:\n",
    "            index = random.randint(0, count_train-1)\n",
    "            if (visited[index] == False):\n",
    "                visited[index] = True\n",
    "                break\n",
    "        l1.append(l_train[index][0])\n",
    "        l2.append(l_train[index][1])\n",
    "    # l1 = [l_train[m][0] for m in range(i*int(count_train/20), (i+1)*int(count_train/20))]\n",
    "    # l2 = [l_train[m][1] for m in range(i*int(count_train/20), (i+1)*int(count_train/20))]\n",
    "    l1 = np.reshape(l1, (-1, 1))\n",
    "    l2 = np.reshape(l2, (-1, 1))\n",
    "    X_train.append(l1)\n",
    "    Y_train.append(l2)"
   ]
  },
  {
   "cell_type": "code",
   "execution_count": 4,
   "metadata": {},
   "outputs": [],
   "source": [
    "mse_list = []\n",
    "var_list = []\n",
    "bias_list = []\n",
    "irreducible_list = []\n",
    "\n",
    "for poly_degree in range(1, 16, 1):\n",
    "\n",
    "    predict = []\n",
    "    bias = 0\n",
    "    mse = 0\n",
    "    variance = 0\n",
    "    irred_error = 0\n",
    "\n",
    "    for i in range(0, 20, 1):\n",
    "        poly_features = p.PolynomialFeatures(degree=poly_degree, include_bias=False)\n",
    "        X_poly = poly_features.fit_transform(X_train[i])\n",
    "        model = lm.LinearRegression().fit(X_poly, Y_train[i])\n",
    "        predict_list = []\n",
    "        for j in range(0, count_test, 1):\n",
    "            x_test = [[X_test[j]]]\n",
    "            x_test_poly = poly_features.transform(x_test)\n",
    "            y_test_pred = model.predict(x_test_poly)\n",
    "            predict_list.append(y_test_pred)\n",
    "        predict.append(predict_list)\n",
    "    \n",
    "    for i in range(0, count_test, 1):\n",
    "        mean_pred = 0\n",
    "        for j in range(0, 20, 1):\n",
    "            mean_pred += predict[j][i]\n",
    "        mean_pred /= 20\n",
    "\n",
    "        bias_iter = abs(mean_pred-Y_test[i])\n",
    "        bias += bias_iter\n",
    "\n",
    "        initial_square = 0 \n",
    "        for j in range(0, 20, 1):\n",
    "            initial_square += predict[j][i]**2\n",
    "\n",
    "        var_iter = initial_square/20-mean_pred**2\n",
    "        variance += var_iter\n",
    "\n",
    "        mse_iter = 0\n",
    "        for j in range(0, 20, 1):\n",
    "            mse_iter += (predict[j][i]-Y_test[i])**2\n",
    "        mse_iter /= 20\n",
    "        mse += mse_iter\n",
    "\n",
    "        irred_error = irred_error + mse_iter - bias_iter**2 - var_iter\n",
    "\n",
    "    variance /= (count_test)\n",
    "    mse /= (count_test) \n",
    "    bias /= (count_test)\n",
    "    irred_error /= (count_test)\n",
    "\n",
    "    mse_list.append(mse)\n",
    "    var_list.append(variance)\n",
    "    bias_list.append(bias)\n",
    "    irreducible_list.append(irred_error)"
   ]
  },
  {
   "cell_type": "code",
   "execution_count": 5,
   "metadata": {},
   "outputs": [
    {
     "name": "stdout",
     "output_type": "stream",
     "text": [
      "+----------------------+----------------------+-----------------------+----------------------+-------------------------+\n",
      "| Degree of Polynomial |         Bias         |        Variance       |  Mean Squared Error  |    Irreducible Error    |\n",
      "+----------------------+----------------------+-----------------------+----------------------+-------------------------+\n",
      "|          1           | 0.26871836729048143  |  0.008497813770900723 |  0.1232071917341779  |  -6.886852199627925e-17 |\n",
      "|          2           | 0.08605576887140859  | 0.0012093414814370307 | 0.013400382579330157 |  5.778363898478745e-17  |\n",
      "|          3           | 0.033371663718274325 | 0.0003368845057376074 | 0.00504092852545256  | -1.9232486154867334e-16 |\n",
      "|          4           | 0.025076454411252443 | 0.0004251158604658545 | 0.004681399713658434 |  3.6301799240245904e-18 |\n",
      "|          5           | 0.025236787898970884 | 0.0004877320093486093 | 0.00473197796425213  |  1.507661725498599e-16  |\n",
      "|          6           | 0.024588723366002378 | 0.0010112663127589145 | 0.005249558685586174 |  3.093342639329255e-16  |\n",
      "|          7           | 0.02612092268152255  | 0.0016693587509950753 | 0.006043996443317383 |  3.377021427254656e-16  |\n",
      "|          8           | 0.027803234494635988 | 0.0037165422378080677 | 0.008289759910284224 |  -7.370395526534734e-16 |\n",
      "|          9           | 0.02510707358089367  |  0.00808923518809042  | 0.012364419429823761 |  3.717366041725012e-16  |\n",
      "|          10          | 0.02570044828968239  |  0.011044891996993012 | 0.015303508699854185 |  8.630857801453923e-16  |\n",
      "|          11          | 0.028692068236282908 |  0.019945887304916043 | 0.024469986916644926 |  8.968612527984753e-16  |\n",
      "|          12          | 0.05930013173658381  |  0.16802006436697625  | 0.19487262985054288  |  9.009138649939547e-16  |\n",
      "|          13          | 0.07534749384257973  |   0.5438295847178355  |  0.6034181871502564  |   8.20781431102452e-16  |\n",
      "|          14          | 0.11685165066241489  |   2.2274558842517673  |  2.399618168717727   |  7.419051809530453e-16  |\n",
      "|          15          | 0.11874364204699965  |   2.303234625127227   |  2.4471932690332627  |  9.046702189458023e-16  |\n",
      "+----------------------+----------------------+-----------------------+----------------------+-------------------------+\n"
     ]
    }
   ],
   "source": [
    "table = PrettyTable(['Degree of Polynomial', 'Bias', 'Variance', 'Mean Squared Error', 'Irreducible Error'])\n",
    "for i in range(0, 15, 1):\n",
    "    table.add_row([i+1, bias_list[i][0][0], var_list[i][0][0], mse_list[i][0][0], irreducible_list[i][0][0]])\n",
    "print(table)"
   ]
  },
  {
   "cell_type": "code",
   "execution_count": 6,
   "metadata": {},
   "outputs": [
    {
     "data": {
      "image/png": "[encoded data removed]",
      "text/plain": [
       "<Figure size 640x480 with 1 Axes>"
      ]
     },
     "metadata": {},
     "output_type": "display_data"
    }
   ],
   "source": [
    "degree = [i for i in range(1, 11, 1)]\n",
    "bias_plot = [bias_list[i][0][0]**2 for i in range(0, 10, 1)]\n",
    "var_plot = [var_list[i][0][0] for i in range(0, 10, 1)]\n",
    "mse_plot = [mse_list[i][0][0] for i in range(0, 10, 1)]\n",
    "# irreducible_plot = [irreducible_list[i][0][0] for i in range(0, 15, 1)]\n",
    "plt.plot(degree, bias_plot, label = \"Bias\", color = \"r\",linestyle=\"-\")\n",
    "plt.plot(degree, var_plot, label = \"Variance\", color = \"g\", linestyle=\"-\")\n",
    "plt.plot(degree, mse_plot, label = \"Mean Squared Error\", color = \"b\", linestyle=\"-\")\n",
    "# plt.plot(degree, irreducible_plot, label = \"Irreducible Error\", color = \"y\", linestyle=\"-\")\n",
    "# plt.yscale('log')\n",
    "plt.show()"
   ]
  },
  {
   "cell_type": "markdown",
   "metadata": {},
   "source": []
  }
 ],
 "metadata": {
  "kernelspec": {
   "display_name": "Python 3",
   "language": "python",
   "name": "python3"
  },
  "language_info": {
   "codemirror_mode": {
    "name": "ipython",
    "version": 3
   },
   "file_extension": ".py",
   "mimetype": "text/x-python",
   "name": "python",
   "nbconvert_exporter": "python",
   "pygments_lexer": "ipython3",
   "version": "3.10.6"
  },
  "orig_nbformat": 4,
  "vscode": {
   "interpreter": {
    "hash": "916dbcbb3f70747c44a77c7bcd40155683ae19c65e1c03b4aa3499c5328201f1"
   }
  }
 },
 "nbformat": 4,
 "nbformat_minor": 2
}
