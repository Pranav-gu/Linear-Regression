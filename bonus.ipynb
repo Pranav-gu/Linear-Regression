{
 "cells": [
  {
   "cell_type": "code",
   "execution_count": 1,
   "metadata": {},
   "outputs": [],
   "source": [
    "import pickle\n",
    "import numpy as np\n",
    "from sklearn import linear_model as lm\n",
    "import math"
   ]
  },
  {
   "cell_type": "code",
   "execution_count": 2,
   "metadata": {},
   "outputs": [],
   "source": [
    "file = open(\"./capacitor_dataset.pickle\", \"rb\")\n",
    "x = pickle.load(file)\n",
    "file.close()\n",
    "count_train = 0\n",
    "\n",
    "l_train = []\n",
    "for lines in x:\n",
    "    l_train.append(lines)\n",
    "    count_train += 1"
   ]
  },
  {
   "cell_type": "code",
   "execution_count": 3,
   "metadata": {},
   "outputs": [],
   "source": [
    "X_train = [l_train[i][0] for i in range(0, count_train, 1)]\n",
    "Y_train = [l_train[i][1] for i in range(0, count_train, 1)]\n",
    "X_train = np.reshape(X_train, (-1, 1))\n",
    "Y_train = np.reshape(Y_train, (-1, 1))\n"
   ]
  },
  {
   "cell_type": "code",
   "execution_count": 5,
   "metadata": {},
   "outputs": [
    {
     "name": "stdout",
     "output_type": "stream",
     "text": [
      "[[-6.70701454e-09]]\n",
      "[4.48602467e-06]\n",
      "Capacitance =  1.0000044860347312\n",
      "Resistance =  149096965.26969093\n"
     ]
    }
   ],
   "source": [
    "model = lm.LinearRegression().fit(X_train, Y_train)\n",
    "\n",
    "capacitance = math.exp(model.intercept_)\n",
    "slope = model.coef_\n",
    "print(slope)\n",
    "print(model.intercept_)\n",
    "resistance = -1/(capacitance*slope)\n",
    "print(\"Capacitance = \", capacitance)\n",
    "print(\"Resistance = \", resistance[0][0])"
   ]
  }
 ],
 "metadata": {
  "kernelspec": {
   "display_name": "Python 3",
   "language": "python",
   "name": "python3"
  },
  "language_info": {
   "codemirror_mode": {
    "name": "ipython",
    "version": 3
   },
   "file_extension": ".py",
   "mimetype": "text/x-python",
   "name": "python",
   "nbconvert_exporter": "python",
   "pygments_lexer": "ipython3",
   "version": "3.10.6"
  },
  "orig_nbformat": 4,
  "vscode": {
   "interpreter": {
    "hash": "916dbcbb3f70747c44a77c7bcd40155683ae19c65e1c03b4aa3499c5328201f1"
   }
  }
 },
 "nbformat": 4,
 "nbformat_minor": 2
}
